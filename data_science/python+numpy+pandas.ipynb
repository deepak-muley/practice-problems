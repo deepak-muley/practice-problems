{
 "cells": [
  {
   "cell_type": "code",
   "execution_count": 1,
   "metadata": {
    "collapsed": false
   },
   "outputs": [
    {
     "name": "stdout",
     "output_type": "stream",
     "text": [
      "hello\n"
     ]
    }
   ],
   "source": [
    "print \"hello\""
   ]
  },
  {
   "cell_type": "code",
   "execution_count": 3,
   "metadata": {
    "collapsed": false
   },
   "outputs": [
    {
     "data": {
      "image/png": "[encoded data removed]",
      "text/plain": [
       "<matplotlib.figure.Figure at 0x7facf03a2250>"
      ]
     },
     "metadata": {},
     "output_type": "display_data"
    }
   ],
   "source": [
    "#import matplotlib libary\n",
    "import matplotlib.pyplot as plt\n",
    "\n",
    "%matplotlib inline \n",
    "#define some data\n",
    "x = [1,2,3,4]\n",
    "y = [20, 21, 20.5, 20.8]\n",
    "\n",
    "#plot data\n",
    "plt.plot(x, y)\n",
    "\n",
    "#show plot\n",
    "plt.show()\n"
   ]
  },
  {
   "cell_type": "code",
   "execution_count": 5,
   "metadata": {
    "collapsed": false
   },
   "outputs": [
    {
     "data": {
      "image/png": "[encoded data removed]",
      "text/plain": [
       "<matplotlib.figure.Figure at 0x7facc71bae50>"
      ]
     },
     "metadata": {},
     "output_type": "display_data"
    }
   ],
   "source": [
    "import matplotlib\n",
    "import numpy as np\n",
    "import matplotlib.pyplot as plt\n",
    "%matplotlib inline \n",
    "x = np.linspace(0, 3*np.pi, 500)\n",
    "plt.plot(x, np.sin(x))\n",
    "plt.title('A simple chirp')\n",
    "plt.show()"
   ]
  },
  {
   "cell_type": "code",
   "execution_count": 46,
   "metadata": {
    "collapsed": false
   },
   "outputs": [
    {
     "name": "stdout",
     "output_type": "stream",
     "text": [
      "[['USA', 'India'] [2004, 2008, 20012, 2016] ['Gold', 'Silver', 'Bronze']]\n",
      "1\n",
      "['USA', 'India']\n",
      "[2004, 2008, 20012, 2016]\n",
      "['Gold', 'Silver', 'Bronze']\n"
     ]
    }
   ],
   "source": [
    "import numpy as np\n",
    "countries = [\"USA\", \"India\"]\n",
    "years = [2004, 2008, 20012, 2016]\n",
    "typeOfMedals = [\"Gold\", \"Silver\", \"Bronze\"]\n",
    "a = np.array([countries, years, typeOfMedals])\n",
    "print a\n",
    "print a.ndim\n",
    "print a[0]\n",
    "print a[1]\n",
    "print a[2]"
   ]
  },
  {
   "cell_type": "code",
   "execution_count": 26,
   "metadata": {
    "collapsed": false
   },
   "outputs": [
    {
     "name": "stdout",
     "output_type": "stream",
     "text": [
      "[1 2 3]\n",
      "[4 5 6]\n",
      "[7 8 9]\n",
      "[[1 2 3]\n",
      " [4 5 6]]\n",
      "[]\n",
      "['a']\n",
      "['a', 'b']\n"
     ]
    }
   ],
   "source": [
    "import numpy as np\n",
    "arr=np.array([[1,2,3], [4,5,6], [7,8,9]])\n",
    "print arr[0]\n",
    "print arr[1]\n",
    "print arr[2]\n",
    "print arr[:2]\n",
    "\n",
    "l = ['a', 'b', 'c']\n",
    "print l[:0]\n",
    "print l[:1]\n",
    "print l[:2]"
   ]
  },
  {
   "cell_type": "code",
   "execution_count": 52,
   "metadata": {
    "collapsed": false
   },
   "outputs": [
    {
     "name": "stdout",
     "output_type": "stream",
     "text": [
      "[-2 -1  0  1]\n",
      "*****\n",
      "[[-2 -1  0  1]\n",
      " [-2 -1  0  1]\n",
      " [-2 -1  0  1]\n",
      " [-2 -1  0  1]]\n",
      "[[-2 -2 -2 -2]\n",
      " [-1 -1 -1 -1]\n",
      " [ 0  0  0  0]\n",
      " [ 1  1  1  1]]\n",
      "[[-4 -3 -2 -1]\n",
      " [-3 -2 -1  0]\n",
      " [-2 -1  0  1]\n",
      " [-1  0  1  2]]\n"
     ]
    },
    {
     "data": {
      "text/plain": [
       "<matplotlib.text.Text at 0x7facc63008d0>"
      ]
     },
     "execution_count": 52,
     "metadata": {},
     "output_type": "execute_result"
    },
    {
     "data": {
      "image/png": "[encoded data removed]",
      "text/plain": [
       "<matplotlib.figure.Figure at 0x7facc64971d0>"
      ]
     },
     "metadata": {},
     "output_type": "display_data"
    }
   ],
   "source": [
    "#arr = np.empty((8, 4))\n",
    "#for i in range(8):\n",
    "#    print i\n",
    "#    arr[i] = i\n",
    "#print arr\n",
    "\n",
    "points = np.arange(-2, 2, 1)\n",
    "print points\n",
    "xs, ys = np.meshgrid(points, points)\n",
    "print \"*\"*5\n",
    "print xs\n",
    "print ys\n",
    "import matplotlib.pyplot as plt\n",
    "#z = np.sqrt(xs ** 2 + ys ** 2)\n",
    "#plt.imshow(z, cmap=plt.cm.gray); plt.colorbar()\n",
    "#plt.title(\"Image plot of $\\sqrt{x^2 + y^2}$ for a grid of values\")\n",
    "\n",
    "z = xs + ys\n",
    "print z\n",
    "plt.imshow(z, cmap=plt.cm.gray); plt.colorbar()\n",
    "plt.title(\"Image plot of $x + y$ for a grid of values\")"
   ]
  },
  {
   "cell_type": "code",
   "execution_count": 59,
   "metadata": {
    "collapsed": false
   },
   "outputs": [
    {
     "data": {
      "text/plain": [
       "Country\n",
       "0      USA\n",
       "1    India\n",
       "Name: Country Names, dtype: object"
      ]
     },
     "execution_count": 59,
     "metadata": {},
     "output_type": "execute_result"
    }
   ],
   "source": [
    "from pandas import Series, DataFrame\n",
    "import pandas as pd\n",
    "\n",
    "countries = Series([\"USA\", \"India\"])\n",
    "countries.name = \"Country Names\"\n",
    "countries.index.name = \"Country\"\n",
    "years = ([2004, 2008, 20012, 2016])\n",
    "typeOfMedals = ([\"Gold\", \"Silver\", \"Bronze\"])\n",
    "\n",
    "countries"
   ]
  }
 ],
 "metadata": {
  "kernelspec": {
   "display_name": "Python [Root]",
   "language": "python",
   "name": "Python [Root]"
  },
  "language_info": {
   "codemirror_mode": {
    "name": "ipython",
    "version": 2
   },
   "file_extension": ".py",
   "mimetype": "text/x-python",
   "name": "python",
   "nbconvert_exporter": "python",
   "pygments_lexer": "ipython2",
   "version": "2.7.12"
  }
 },
 "nbformat": 4,
 "nbformat_minor": 0
}
